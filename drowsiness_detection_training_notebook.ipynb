{
 "cells": [
  {
   "cell_type": "code",
   "execution_count": 1,
   "metadata": {
    "execution": {
     "iopub.execute_input": "2022-10-31T14:21:22.960284Z",
     "iopub.status.busy": "2022-10-31T14:21:22.959502Z",
     "iopub.status.idle": "2022-10-31T14:21:33.120129Z",
     "shell.execute_reply": "2022-10-31T14:21:33.121208Z",
     "shell.execute_reply.started": "2022-10-31T13:25:34.534047Z"
    },
    "papermill": {
     "duration": 10.185314,
     "end_time": "2022-10-31T14:21:33.121616",
     "exception": false,
     "start_time": "2022-10-31T14:21:22.936302",
     "status": "completed"
    },
    "tags": []
   },
   "outputs": [],
   "source": [
    "import matplotlib.pyplot as plt\n",
    "import numpy as np\n",
    "import PIL\n",
    "import tensorflow as tf\n",
    "from tensorflow.keras.layers import Dense, GlobalAveragePooling2D, Dropout, Flatten, Conv2D, MaxPooling2D\n",
    "from tensorflow.keras.models import Sequential\n",
    "from tensorflow.keras.optimizers import Adam"
   ]
  },
  {
   "cell_type": "code",
   "execution_count": 2,
   "metadata": {
    "execution": {
     "iopub.execute_input": "2022-10-31T14:21:33.183497Z",
     "iopub.status.busy": "2022-10-31T14:21:33.182547Z",
     "iopub.status.idle": "2022-10-31T14:22:23.498606Z",
     "shell.execute_reply": "2022-10-31T14:22:23.497763Z",
     "shell.execute_reply.started": "2022-10-31T13:25:36.294697Z"
    },
    "papermill": {
     "duration": 50.349967,
     "end_time": "2022-10-31T14:22:23.498779",
     "exception": false,
     "start_time": "2022-10-31T14:21:33.148812",
     "status": "completed"
    },
    "scrolled": true,
    "tags": []
   },
   "outputs": [
    {
     "name": "stdout",
     "output_type": "stream",
     "text": [
      "Found 38400 images belonging to 2 classes.\n",
      "Found 9600 images belonging to 2 classes.\n"
     ]
    }
   ],
   "source": [
    "from tensorflow.keras.preprocessing.image import ImageDataGenerator\n",
    "data_dir = \"../input/drowsiness-detection/\"\n",
    "train_datagen = ImageDataGenerator(validation_split=0.2) # don't use rescale = 1./255\n",
    "\n",
    "train_generator = train_datagen.flow_from_directory( data_dir,\n",
    "                                                     target_size=(32,32),\n",
    "                                                     batch_size=32,\n",
    "                                                     shuffle=True,\n",
    "                                                     class_mode='categorical',\n",
    "                                                     subset='training')\n",
    "\n",
    "validation_datagen = ImageDataGenerator(validation_split=0.2)\n",
    "\n",
    "validation_generator =  validation_datagen.flow_from_directory( data_dir,\n",
    "                                                                target_size=(32,32),\n",
    "                                                                batch_size=32,\n",
    "                                                                class_mode='categorical',\n",
    "                                                                subset='validation')   "
   ]
  },
  {
   "cell_type": "code",
   "execution_count": 3,
   "metadata": {
    "execution": {
     "iopub.execute_input": "2022-10-31T14:22:23.539643Z",
     "iopub.status.busy": "2022-10-31T14:22:23.539080Z",
     "iopub.status.idle": "2022-10-31T14:22:28.836156Z",
     "shell.execute_reply": "2022-10-31T14:22:28.835538Z",
     "shell.execute_reply.started": "2022-10-31T13:33:47.487962Z"
    },
    "papermill": {
     "duration": 5.320056,
     "end_time": "2022-10-31T14:22:28.836302",
     "exception": false,
     "start_time": "2022-10-31T14:22:23.516246",
     "status": "completed"
    },
    "tags": []
   },
   "outputs": [],
   "source": [
    "cnn_model = Sequential([\n",
    "    Conv2D(32, kernel_size=(3, 3), activation='relu', input_shape=(32,32,3)),\n",
    "    MaxPooling2D(pool_size=(1,1)),\n",
    "    Conv2D(32,(3,3),activation='relu'),\n",
    "    MaxPooling2D(pool_size=(1,1)),\n",
    "#32 convolution filters used each of size 3x3\n",
    "#again\n",
    "    Conv2D(64, (3, 3), activation='relu'),\n",
    "    MaxPooling2D(pool_size=(1,1)),\n",
    "\n",
    "#64 convolution filters used each of size 3x3\n",
    "#choose the best features via pooling\n",
    "    \n",
    "#randomly turn neurons on and off to improve convergence\n",
    "    Dropout(0.25),\n",
    "#flatten since too many dimensions, we only want a classification output\n",
    "    Flatten(),\n",
    "#fully connected to get all relevant data\n",
    "    Dense(128, activation='relu'),\n",
    "#one more dropout for convergence' sake :) \n",
    "#    Dropout(0.5),\n",
    "#output a softmax to squash the matrix into output probabilities\n",
    "    Dense(2, activation='softmax')\n",
    "])"
   ]
  },
  {
   "cell_type": "code",
   "execution_count": 4,
   "metadata": {
    "execution": {
     "iopub.execute_input": "2022-11-01T15:10:16.914055Z",
     "iopub.status.busy": "2022-11-01T15:10:16.913594Z",
     "iopub.status.idle": "2022-11-01T15:10:16.942802Z",
     "shell.execute_reply": "2022-11-01T15:10:16.942007Z",
     "shell.execute_reply.started": "2022-11-01T15:10:16.914014Z"
    }
   },
   "outputs": [],
   "source": [
    "cnn_model.compile(optimizer='adam',loss='categorical_crossentropy',metrics=[tf.keras.metrics.CategoricalAccuracy(),tf.keras.metrics.Precision(), tf.keras.metrics.Recall()])"
   ]
  },
  {
   "cell_type": "code",
   "execution_count": 5,
   "metadata": {
    "execution": {
     "iopub.execute_input": "2022-11-01T15:10:31.631652Z",
     "iopub.status.busy": "2022-11-01T15:10:31.631265Z",
     "iopub.status.idle": "2022-11-01T15:10:31.638934Z",
     "shell.execute_reply": "2022-11-01T15:10:31.637755Z",
     "shell.execute_reply.started": "2022-11-01T15:10:31.631617Z"
    },
    "scrolled": true
   },
   "outputs": [
    {
     "name": "stdout",
     "output_type": "stream",
     "text": [
      "Model: \"sequential\"\n",
      "_________________________________________________________________\n",
      "Layer (type)                 Output Shape              Param #   \n",
      "=================================================================\n",
      "conv2d (Conv2D)              (None, 30, 30, 32)        896       \n",
      "_________________________________________________________________\n",
      "max_pooling2d (MaxPooling2D) (None, 30, 30, 32)        0         \n",
      "_________________________________________________________________\n",
      "conv2d_1 (Conv2D)            (None, 28, 28, 32)        9248      \n",
      "_________________________________________________________________\n",
      "max_pooling2d_1 (MaxPooling2 (None, 28, 28, 32)        0         \n",
      "_________________________________________________________________\n",
      "conv2d_2 (Conv2D)            (None, 26, 26, 64)        18496     \n",
      "_________________________________________________________________\n",
      "max_pooling2d_2 (MaxPooling2 (None, 26, 26, 64)        0         \n",
      "_________________________________________________________________\n",
      "dropout (Dropout)            (None, 26, 26, 64)        0         \n",
      "_________________________________________________________________\n",
      "flatten (Flatten)            (None, 43264)             0         \n",
      "_________________________________________________________________\n",
      "dense (Dense)                (None, 128)               5537920   \n",
      "_________________________________________________________________\n",
      "dense_1 (Dense)              (None, 2)                 258       \n",
      "=================================================================\n",
      "Total params: 5,566,818\n",
      "Trainable params: 5,566,818\n",
      "Non-trainable params: 0\n",
      "_________________________________________________________________\n"
     ]
    }
   ],
   "source": [
    "cnn_model.summary()"
   ]
  },
  {
   "cell_type": "code",
   "execution_count": 6,
   "metadata": {
    "execution": {
     "iopub.execute_input": "2022-11-01T15:10:39.801931Z",
     "iopub.status.busy": "2022-11-01T15:10:39.801560Z",
     "iopub.status.idle": "2022-11-01T15:28:31.407354Z",
     "shell.execute_reply": "2022-11-01T15:28:31.406293Z",
     "shell.execute_reply.started": "2022-11-01T15:10:39.801899Z"
    }
   },
   "outputs": [
    {
     "name": "stdout",
     "output_type": "stream",
     "text": [
      "Epoch 1/10\n",
      "1200/1200 [==============================] - 356s 291ms/step - loss: 3.9119 - categorical_accuracy: 0.9022 - precision: 0.9022 - recall: 0.9022 - val_loss: 0.1849 - val_categorical_accuracy: 0.9310 - val_precision: 0.9310 - val_recall: 0.9310\n",
      "Epoch 2/10\n",
      "1200/1200 [==============================] - 75s 63ms/step - loss: 0.0709 - categorical_accuracy: 0.9771 - precision: 0.9771 - recall: 0.9771 - val_loss: 0.2785 - val_categorical_accuracy: 0.9085 - val_precision: 0.9085 - val_recall: 0.9085\n",
      "Epoch 3/10\n",
      "1200/1200 [==============================] - 74s 62ms/step - loss: 0.0573 - categorical_accuracy: 0.9819 - precision: 0.9819 - recall: 0.9819 - val_loss: 0.1398 - val_categorical_accuracy: 0.9541 - val_precision: 0.9541 - val_recall: 0.9541\n",
      "Epoch 4/10\n",
      "1200/1200 [==============================] - 74s 62ms/step - loss: 0.0434 - categorical_accuracy: 0.9864 - precision: 0.9864 - recall: 0.9864 - val_loss: 0.2013 - val_categorical_accuracy: 0.9389 - val_precision: 0.9389 - val_recall: 0.9389\n",
      "Epoch 5/10\n",
      "1200/1200 [==============================] - 73s 61ms/step - loss: 0.0342 - categorical_accuracy: 0.9886 - precision: 0.9886 - recall: 0.9886 - val_loss: 0.2002 - val_categorical_accuracy: 0.9379 - val_precision: 0.9379 - val_recall: 0.9379\n",
      "Epoch 6/10\n",
      "1200/1200 [==============================] - 82s 69ms/step - loss: 0.0389 - categorical_accuracy: 0.9882 - precision: 0.9882 - recall: 0.9882 - val_loss: 0.1225 - val_categorical_accuracy: 0.9616 - val_precision: 0.9616 - val_recall: 0.9616\n",
      "Epoch 7/10\n",
      "1200/1200 [==============================] - 76s 63ms/step - loss: 0.0250 - categorical_accuracy: 0.9923 - precision: 0.9923 - recall: 0.9923 - val_loss: 0.2615 - val_categorical_accuracy: 0.9149 - val_precision: 0.9149 - val_recall: 0.9149\n",
      "Epoch 8/10\n",
      "1200/1200 [==============================] - 96s 80ms/step - loss: 0.0255 - categorical_accuracy: 0.9922 - precision: 0.9922 - recall: 0.9922 - val_loss: 0.2217 - val_categorical_accuracy: 0.9355 - val_precision: 0.9355 - val_recall: 0.9355\n",
      "Epoch 9/10\n",
      "1200/1200 [==============================] - 87s 72ms/step - loss: 0.0204 - categorical_accuracy: 0.9936 - precision: 0.9936 - recall: 0.9936 - val_loss: 0.2762 - val_categorical_accuracy: 0.9329 - val_precision: 0.9329 - val_recall: 0.9329\n",
      "Epoch 10/10\n",
      "1200/1200 [==============================] - 78s 65ms/step - loss: 0.0171 - categorical_accuracy: 0.9947 - precision: 0.9947 - recall: 0.9947 - val_loss: 0.1950 - val_categorical_accuracy: 0.9470 - val_precision: 0.9470 - val_recall: 0.9470\n"
     ]
    }
   ],
   "source": [
    "history = cnn_model.fit(train_generator, validation_data=validation_generator, epochs=10)"
   ]
  },
  {
   "cell_type": "code",
   "execution_count": 7,
   "metadata": {
    "execution": {
     "iopub.execute_input": "2022-11-01T15:32:41.945494Z",
     "iopub.status.busy": "2022-11-01T15:32:41.945133Z",
     "iopub.status.idle": "2022-11-01T15:32:42.174247Z",
     "shell.execute_reply": "2022-11-01T15:32:42.173329Z",
     "shell.execute_reply.started": "2022-11-01T15:32:41.945460Z"
    }
   },
   "outputs": [
    {
     "data": {
      "image/png": "[encoded data removed]",
      "text/plain": [
       "<Figure size 432x288 with 1 Axes>"
      ]
     },
     "metadata": {
      "needs_background": "light"
     },
     "output_type": "display_data"
    }
   ],
   "source": [
    "fig1 = plt.gcf()\n",
    "plt.plot(history.history['categorical_accuracy'])\n",
    "plt.plot(history.history['val_categorical_accuracy'])\n",
    "plt.axis(ymin=0.4,ymax=1)\n",
    "plt.grid()\n",
    "plt.title('Model Accuracy')\n",
    "plt.ylabel('Accuracy')\n",
    "plt.xlabel('Epochs')\n",
    "plt.legend(['train', 'validation'])\n",
    "plt.show()"
   ]
  },
  {
   "cell_type": "code",
   "execution_count": null,
   "metadata": {
    "execution": {
     "iopub.status.busy": "2022-10-31T17:27:53.255065Z",
     "iopub.status.idle": "2022-10-31T17:27:53.255690Z"
    }
   },
   "outputs": [],
   "source": [
    "import cv2\n",
    "img_height, img_width = 32,32\n",
    "image=cv2.imread(\"../input/drowsiness-detection/closed_eye/s0001_00001_0_0_0_0_0_01.png\")\n",
    "image_resized= cv2.resize(image, (img_height,img_width))\n",
    "image=np.expand_dims(image_resized,axis=0)"
   ]
  },
  {
   "cell_type": "code",
   "execution_count": 20,
   "metadata": {
    "execution": {
     "iopub.execute_input": "2022-11-01T15:39:18.310880Z",
     "iopub.status.busy": "2022-11-01T15:39:18.310521Z",
     "iopub.status.idle": "2022-11-01T15:39:18.459758Z",
     "shell.execute_reply": "2022-11-01T15:39:18.458822Z",
     "shell.execute_reply.started": "2022-11-01T15:39:18.310846Z"
    }
   },
   "outputs": [
    {
     "name": "stdout",
     "output_type": "stream",
     "text": [
      "(86, 86, 3)\n",
      "(86, 86, 3)\n",
      "(32, 32, 3)\n",
      "(1, 32, 32, 3)\n"
     ]
    }
   ],
   "source": [
    "import cv2\n",
    "img_height, img_width = 32,32\n",
    "image=cv2.imread(\"../input/drowsiness-detection/closed_eye/s0001_00001_0_0_0_0_0_01.png\")\n",
    "print(image.shape)\n",
    "r_eye = cv2.cvtColor(image,cv2.COLOR_BGR2RGB)\n",
    "print(r_eye.shape)\n",
    "r_eye = cv2.resize(r_eye, (img_height,img_width))\n",
    "print(r_eye.shape)\n",
    "#r_eye= r_eye/255\n",
    "r_eye=  r_eye.reshape((-1, 32, 32, 3))\n",
    "print(r_eye.shape)\n",
    "#r_eye = np.expand_dims(r_eye,axis=0)\n",
    "pred=cnn_model.predict(r_eye)"
   ]
  },
  {
   "cell_type": "code",
   "execution_count": 22,
   "metadata": {
    "execution": {
     "iopub.execute_input": "2022-11-01T15:39:41.152099Z",
     "iopub.status.busy": "2022-11-01T15:39:41.151656Z",
     "iopub.status.idle": "2022-11-01T15:39:41.163979Z",
     "shell.execute_reply": "2022-11-01T15:39:41.162957Z",
     "shell.execute_reply.started": "2022-11-01T15:39:41.152050Z"
    }
   },
   "outputs": [
    {
     "data": {
      "text/plain": [
       "0"
      ]
     },
     "execution_count": 22,
     "metadata": {},
     "output_type": "execute_result"
    }
   ],
   "source": [
    "np.argmax(pred)"
   ]
  },
  {
   "cell_type": "code",
   "execution_count": 8,
   "metadata": {
    "execution": {
     "iopub.execute_input": "2022-10-31T14:39:22.034271Z",
     "iopub.status.busy": "2022-10-31T14:39:22.033670Z",
     "iopub.status.idle": "2022-10-31T14:39:22.427469Z",
     "shell.execute_reply": "2022-10-31T14:39:22.426993Z"
    },
    "papermill": {
     "duration": 2.888266,
     "end_time": "2022-10-31T14:39:22.427613",
     "exception": false,
     "start_time": "2022-10-31T14:39:19.539347",
     "status": "completed"
    },
    "tags": []
   },
   "outputs": [],
   "source": [
    "import cv2\n",
    "img_height, img_width = 32,32\n",
    "image=cv2.imread(\"../input/drowsiness-detection/closed_eye/s0001_00001_0_0_0_0_0_01.png\")\n",
    "image_resized= cv2.resize(image, (img_height,img_width))\n",
    "image=np.expand_dims(image_resized,axis=0)"
   ]
  },
  {
   "cell_type": "code",
   "execution_count": 9,
   "metadata": {
    "execution": {
     "iopub.execute_input": "2022-10-31T14:39:27.003351Z",
     "iopub.status.busy": "2022-10-31T14:39:27.002500Z",
     "iopub.status.idle": "2022-10-31T14:39:27.176533Z",
     "shell.execute_reply": "2022-10-31T14:39:27.176002Z"
    },
    "papermill": {
     "duration": 2.435033,
     "end_time": "2022-10-31T14:39:27.176668",
     "exception": false,
     "start_time": "2022-10-31T14:39:24.741635",
     "status": "completed"
    },
    "tags": []
   },
   "outputs": [],
   "source": [
    "pred=cnn_model.predict(image)"
   ]
  },
  {
   "cell_type": "code",
   "execution_count": 10,
   "metadata": {
    "execution": {
     "iopub.execute_input": "2022-10-31T14:39:32.042624Z",
     "iopub.status.busy": "2022-10-31T14:39:32.041872Z",
     "iopub.status.idle": "2022-10-31T14:39:32.046377Z",
     "shell.execute_reply": "2022-10-31T14:39:32.045719Z"
    },
    "papermill": {
     "duration": 2.551144,
     "end_time": "2022-10-31T14:39:32.046540",
     "exception": false,
     "start_time": "2022-10-31T14:39:29.495396",
     "status": "completed"
    },
    "tags": []
   },
   "outputs": [
    {
     "name": "stdout",
     "output_type": "stream",
     "text": [
      "The predicted class is 0\n"
     ]
    }
   ],
   "source": [
    "output_class=np.argmax(pred)\n",
    "print(\"The predicted class is\", output_class)\n",
    "# 0 is close 1 is open"
   ]
  },
  {
   "cell_type": "code",
   "execution_count": 11,
   "metadata": {
    "execution": {
     "iopub.execute_input": "2022-10-31T14:39:37.296120Z",
     "iopub.status.busy": "2022-10-31T14:39:37.295240Z",
     "iopub.status.idle": "2022-10-31T14:39:37.421919Z",
     "shell.execute_reply": "2022-10-31T14:39:37.422845Z"
    },
    "papermill": {
     "duration": 3.064911,
     "end_time": "2022-10-31T14:39:37.423029",
     "exception": false,
     "start_time": "2022-10-31T14:39:34.358118",
     "status": "completed"
    },
    "tags": []
   },
   "outputs": [],
   "source": [
    "cnn_model.save(\"./cnn.h5\")"
   ]
  },
  {
   "cell_type": "code",
   "execution_count": 12,
   "metadata": {
    "execution": {
     "iopub.execute_input": "2022-10-31T14:39:42.318049Z",
     "iopub.status.busy": "2022-10-31T14:39:42.317441Z",
     "iopub.status.idle": "2022-10-31T14:39:42.675745Z",
     "shell.execute_reply": "2022-10-31T14:39:42.676218Z"
    },
    "papermill": {
     "duration": 2.908263,
     "end_time": "2022-10-31T14:39:42.676383",
     "exception": false,
     "start_time": "2022-10-31T14:39:39.768120",
     "status": "completed"
    },
    "tags": []
   },
   "outputs": [
    {
     "name": "stdout",
     "output_type": "stream",
     "text": [
      "[0]\n"
     ]
    }
   ],
   "source": [
    "from keras.models import load_model\n",
    "test_model = load_model('./cnn.h5')\n",
    "pred = np.argmax(test_model.predict(image), axis=-1)\n",
    "print(pred)"
   ]
  },
  {
   "cell_type": "code",
   "execution_count": 13,
   "metadata": {
    "execution": {
     "iopub.execute_input": "2022-10-31T14:39:47.239409Z",
     "iopub.status.busy": "2022-10-31T14:39:47.238529Z",
     "iopub.status.idle": "2022-10-31T14:39:49.667439Z",
     "shell.execute_reply": "2022-10-31T14:39:49.666602Z",
     "shell.execute_reply.started": "2022-10-31T13:45:01.699003Z"
    },
    "papermill": {
     "duration": 4.725982,
     "end_time": "2022-10-31T14:39:49.667593",
     "exception": false,
     "start_time": "2022-10-31T14:39:44.941611",
     "status": "completed"
    },
    "tags": []
   },
   "outputs": [
    {
     "name": "stdout",
     "output_type": "stream",
     "text": [
      "Downloading data from https://storage.googleapis.com/tensorflow/keras-applications/resnet/resnet50_weights_tf_dim_ordering_tf_kernels_notop.h5\n",
      "94773248/94765736 [==============================] - 1s 0us/step\n"
     ]
    }
   ],
   "source": [
    "resnet50_model = Sequential()\n",
    "\n",
    "pretrained_model= tf.keras.applications.ResNet50(include_top=False,\n",
    "                   input_shape=(32,32,3),\n",
    "                   pooling='avg',classes=2,\n",
    "                   weights= 'imagenet')\n",
    "for layer in pretrained_model.layers:\n",
    "        layer.trainable=False\n",
    "\n",
    "resnet50_model.add(pretrained_model)"
   ]
  },
  {
   "cell_type": "code",
   "execution_count": 14,
   "metadata": {
    "execution": {
     "iopub.execute_input": "2022-10-31T14:39:54.518522Z",
     "iopub.status.busy": "2022-10-31T14:39:54.517534Z",
     "iopub.status.idle": "2022-10-31T14:39:54.536344Z",
     "shell.execute_reply": "2022-10-31T14:39:54.535896Z",
     "shell.execute_reply.started": "2022-10-31T13:45:03.598988Z"
    },
    "papermill": {
     "duration": 2.524419,
     "end_time": "2022-10-31T14:39:54.536479",
     "exception": false,
     "start_time": "2022-10-31T14:39:52.012060",
     "status": "completed"
    },
    "tags": []
   },
   "outputs": [],
   "source": [
    "resnet50_model.add(Flatten())\n",
    "resnet50_model.add(Dense(128, activation='relu'))\n",
    "resnet50_model.add(Dense(2, activation='softmax'))"
   ]
  },
  {
   "cell_type": "code",
   "execution_count": 15,
   "metadata": {
    "execution": {
     "iopub.execute_input": "2022-10-31T14:39:59.244816Z",
     "iopub.status.busy": "2022-10-31T14:39:59.239708Z",
     "iopub.status.idle": "2022-10-31T14:39:59.250986Z",
     "shell.execute_reply": "2022-10-31T14:39:59.251511Z",
     "shell.execute_reply.started": "2022-10-31T13:45:06.211082Z"
    },
    "papermill": {
     "duration": 2.394806,
     "end_time": "2022-10-31T14:39:59.251718",
     "exception": false,
     "start_time": "2022-10-31T14:39:56.856912",
     "status": "completed"
    },
    "tags": []
   },
   "outputs": [
    {
     "name": "stdout",
     "output_type": "stream",
     "text": [
      "Model: \"sequential_1\"\n",
      "_________________________________________________________________\n",
      "Layer (type)                 Output Shape              Param #   \n",
      "=================================================================\n",
      "resnet50 (Functional)        (None, 2048)              23587712  \n",
      "_________________________________________________________________\n",
      "flatten_1 (Flatten)          (None, 2048)              0         \n",
      "_________________________________________________________________\n",
      "dense_2 (Dense)              (None, 128)               262272    \n",
      "_________________________________________________________________\n",
      "dense_3 (Dense)              (None, 2)                 258       \n",
      "=================================================================\n",
      "Total params: 23,850,242\n",
      "Trainable params: 262,530\n",
      "Non-trainable params: 23,587,712\n",
      "_________________________________________________________________\n"
     ]
    }
   ],
   "source": [
    "resnet50_model.summary()"
   ]
  },
  {
   "cell_type": "code",
   "execution_count": 16,
   "metadata": {
    "execution": {
     "iopub.execute_input": "2022-10-31T14:40:03.995185Z",
     "iopub.status.busy": "2022-10-31T14:40:03.994323Z",
     "iopub.status.idle": "2022-10-31T14:53:52.891591Z",
     "shell.execute_reply": "2022-10-31T14:53:52.891124Z",
     "shell.execute_reply.started": "2022-10-31T13:45:06.505400Z"
    },
    "papermill": {
     "duration": 831.302499,
     "end_time": "2022-10-31T14:53:52.891771",
     "exception": false,
     "start_time": "2022-10-31T14:40:01.589272",
     "status": "completed"
    },
    "tags": []
   },
   "outputs": [
    {
     "name": "stdout",
     "output_type": "stream",
     "text": [
      "Epoch 1/10\n",
      "1200/1200 [==============================] - 86s 69ms/step - loss: 0.1764 - categorical_accuracy: 0.9430 - precision_1: 0.9430 - recall_1: 0.9430 - val_loss: 0.3366 - val_categorical_accuracy: 0.8840 - val_precision_1: 0.8840 - val_recall_1: 0.8840\n",
      "Epoch 2/10\n",
      "1200/1200 [==============================] - 81s 68ms/step - loss: 0.0412 - categorical_accuracy: 0.9856 - precision_1: 0.9856 - recall_1: 0.9856 - val_loss: 0.4553 - val_categorical_accuracy: 0.8542 - val_precision_1: 0.8542 - val_recall_1: 0.8542\n",
      "Epoch 3/10\n",
      "1200/1200 [==============================] - 81s 68ms/step - loss: 0.0281 - categorical_accuracy: 0.9901 - precision_1: 0.9901 - recall_1: 0.9901 - val_loss: 0.5349 - val_categorical_accuracy: 0.8621 - val_precision_1: 0.8621 - val_recall_1: 0.8621\n",
      "Epoch 4/10\n",
      "1200/1200 [==============================] - 81s 68ms/step - loss: 0.0212 - categorical_accuracy: 0.9930 - precision_1: 0.9930 - recall_1: 0.9930 - val_loss: 0.6640 - val_categorical_accuracy: 0.8398 - val_precision_1: 0.8398 - val_recall_1: 0.8398\n",
      "Epoch 5/10\n",
      "1200/1200 [==============================] - 81s 68ms/step - loss: 0.0185 - categorical_accuracy: 0.9932 - precision_1: 0.9932 - recall_1: 0.9932 - val_loss: 0.7950 - val_categorical_accuracy: 0.8340 - val_precision_1: 0.8340 - val_recall_1: 0.8340\n",
      "Epoch 6/10\n",
      "1200/1200 [==============================] - 81s 67ms/step - loss: 0.0156 - categorical_accuracy: 0.9943 - precision_1: 0.9943 - recall_1: 0.9943 - val_loss: 0.9061 - val_categorical_accuracy: 0.8372 - val_precision_1: 0.8372 - val_recall_1: 0.8372\n",
      "Epoch 7/10\n",
      "1200/1200 [==============================] - 84s 70ms/step - loss: 0.0141 - categorical_accuracy: 0.9948 - precision_1: 0.9948 - recall_1: 0.9948 - val_loss: 0.7442 - val_categorical_accuracy: 0.8630 - val_precision_1: 0.8630 - val_recall_1: 0.8630\n",
      "Epoch 8/10\n",
      "1200/1200 [==============================] - 83s 69ms/step - loss: 0.0111 - categorical_accuracy: 0.9962 - precision_1: 0.9962 - recall_1: 0.9962 - val_loss: 0.8878 - val_categorical_accuracy: 0.8642 - val_precision_1: 0.8642 - val_recall_1: 0.8642\n",
      "Epoch 9/10\n",
      "1200/1200 [==============================] - 86s 72ms/step - loss: 0.0089 - categorical_accuracy: 0.9971 - precision_1: 0.9971 - recall_1: 0.9971 - val_loss: 1.4457 - val_categorical_accuracy: 0.8170 - val_precision_1: 0.8170 - val_recall_1: 0.8170\n",
      "Epoch 10/10\n",
      "1200/1200 [==============================] - 85s 71ms/step - loss: 0.0070 - categorical_accuracy: 0.9974 - precision_1: 0.9974 - recall_1: 0.9974 - val_loss: 0.8204 - val_categorical_accuracy: 0.8748 - val_precision_1: 0.8748 - val_recall_1: 0.8748\n"
     ]
    }
   ],
   "source": [
    "resnet50_model.compile(optimizer=Adam(learning_rate=0.001),loss='categorical_crossentropy',metrics=[tf.keras.metrics.CategoricalAccuracy(),tf.keras.metrics.Precision(), tf.keras.metrics.Recall()])\n",
    "history = resnet50_model.fit(train_generator, validation_data=validation_generator, epochs=10)"
   ]
  },
  {
   "cell_type": "code",
   "execution_count": 17,
   "metadata": {
    "execution": {
     "iopub.execute_input": "2022-10-31T14:54:03.533634Z",
     "iopub.status.busy": "2022-10-31T14:54:03.526838Z",
     "iopub.status.idle": "2022-10-31T14:54:03.684230Z",
     "shell.execute_reply": "2022-10-31T14:54:03.684639Z",
     "shell.execute_reply.started": "2022-10-31T13:53:46.988990Z"
    },
    "papermill": {
     "duration": 5.315275,
     "end_time": "2022-10-31T14:54:03.684851",
     "exception": false,
     "start_time": "2022-10-31T14:53:58.369576",
     "status": "completed"
    },
    "tags": []
   },
   "outputs": [
    {
     "data": {
      "image/png": "[encoded data removed]",
      "text/plain": [
       "<Figure size 432x288 with 1 Axes>"
      ]
     },
     "metadata": {
      "needs_background": "light"
     },
     "output_type": "display_data"
    }
   ],
   "source": [
    "fig1 = plt.gcf()\n",
    "plt.plot(history.history['categorical_accuracy'])\n",
    "plt.plot(history.history['val_categorical_accuracy'])\n",
    "plt.axis(ymin=0.4,ymax=1)\n",
    "plt.grid()\n",
    "plt.title('Model Accuracy')\n",
    "plt.ylabel('Accuracy')\n",
    "plt.xlabel('Epochs')\n",
    "plt.legend(['train', 'validation'])\n",
    "plt.show()"
   ]
  },
  {
   "cell_type": "code",
   "execution_count": 18,
   "metadata": {
    "execution": {
     "iopub.execute_input": "2022-10-31T14:54:14.732293Z",
     "iopub.status.busy": "2022-10-31T14:54:14.731442Z",
     "iopub.status.idle": "2022-10-31T14:54:15.104423Z",
     "shell.execute_reply": "2022-10-31T14:54:15.103467Z",
     "shell.execute_reply.started": "2022-10-31T13:53:19.651749Z"
    },
    "papermill": {
     "duration": 6.104609,
     "end_time": "2022-10-31T14:54:15.104571",
     "exception": false,
     "start_time": "2022-10-31T14:54:08.999962",
     "status": "completed"
    },
    "tags": []
   },
   "outputs": [],
   "source": [
    "resnet50_model.save(\"./resnet50.h5\")"
   ]
  },
  {
   "cell_type": "code",
   "execution_count": 19,
   "metadata": {
    "execution": {
     "iopub.execute_input": "2022-10-31T14:54:25.651243Z",
     "iopub.status.busy": "2022-10-31T14:54:25.650625Z",
     "iopub.status.idle": "2022-10-31T14:54:27.417853Z",
     "shell.execute_reply": "2022-10-31T14:54:27.418912Z",
     "shell.execute_reply.started": "2022-10-31T13:55:01.050151Z"
    },
    "papermill": {
     "duration": 6.970102,
     "end_time": "2022-10-31T14:54:27.419122",
     "exception": false,
     "start_time": "2022-10-31T14:54:20.449020",
     "status": "completed"
    },
    "tags": []
   },
   "outputs": [],
   "source": [
    "resnet50_model_regularized = Sequential()\n",
    "\n",
    "pretrained_model= tf.keras.applications.ResNet50(include_top=False,\n",
    "                   input_shape=(32,32,3),\n",
    "                   pooling='avg',classes=2,\n",
    "                   weights= 'imagenet')\n",
    "for layer in pretrained_model.layers:\n",
    "        layer.trainable=False\n",
    "\n",
    "resnet50_model_regularized.add(pretrained_model)"
   ]
  },
  {
   "cell_type": "code",
   "execution_count": 20,
   "metadata": {
    "execution": {
     "iopub.execute_input": "2022-10-31T14:54:37.885779Z",
     "iopub.status.busy": "2022-10-31T14:54:37.884893Z",
     "iopub.status.idle": "2022-10-31T14:54:37.905363Z",
     "shell.execute_reply": "2022-10-31T14:54:37.904895Z",
     "shell.execute_reply.started": "2022-10-31T13:55:03.012957Z"
    },
    "papermill": {
     "duration": 5.258552,
     "end_time": "2022-10-31T14:54:37.905505",
     "exception": false,
     "start_time": "2022-10-31T14:54:32.646953",
     "status": "completed"
    },
    "tags": []
   },
   "outputs": [],
   "source": [
    "resnet50_model_regularized.add(Flatten())\n",
    "resnet50_model_regularized.add(Dense(128, activation='relu'))\n",
    "resnet50_model_regularized.add(Dropout(0.5))\n",
    "resnet50_model_regularized.add(Dense(2, activation='softmax'))"
   ]
  },
  {
   "cell_type": "code",
   "execution_count": 21,
   "metadata": {
    "execution": {
     "iopub.execute_input": "2022-10-31T14:54:49.099258Z",
     "iopub.status.busy": "2022-10-31T14:54:49.098408Z",
     "iopub.status.idle": "2022-10-31T15:08:57.522161Z",
     "shell.execute_reply": "2022-10-31T15:08:57.523097Z",
     "shell.execute_reply.started": "2022-10-31T13:55:04.725157Z"
    },
    "papermill": {
     "duration": 853.755507,
     "end_time": "2022-10-31T15:08:57.523310",
     "exception": false,
     "start_time": "2022-10-31T14:54:43.767803",
     "status": "completed"
    },
    "tags": []
   },
   "outputs": [
    {
     "name": "stdout",
     "output_type": "stream",
     "text": [
      "Epoch 1/10\n",
      "1200/1200 [==============================] - 87s 70ms/step - loss: 0.2082 - categorical_accuracy: 0.9293 - precision_2: 0.9293 - recall_2: 0.9293 - val_loss: 0.2404 - val_categorical_accuracy: 0.9118 - val_precision_2: 0.9118 - val_recall_2: 0.9118\n",
      "Epoch 2/10\n",
      "1200/1200 [==============================] - 85s 70ms/step - loss: 0.0738 - categorical_accuracy: 0.9728 - precision_2: 0.9728 - recall_2: 0.9728 - val_loss: 0.3570 - val_categorical_accuracy: 0.8835 - val_precision_2: 0.8835 - val_recall_2: 0.8835\n",
      "Epoch 3/10\n",
      "1200/1200 [==============================] - 85s 71ms/step - loss: 0.0575 - categorical_accuracy: 0.9787 - precision_2: 0.9787 - recall_2: 0.9787 - val_loss: 0.3892 - val_categorical_accuracy: 0.8746 - val_precision_2: 0.8746 - val_recall_2: 0.8746\n",
      "Epoch 4/10\n",
      "1200/1200 [==============================] - 85s 71ms/step - loss: 0.0499 - categorical_accuracy: 0.9819 - precision_2: 0.9819 - recall_2: 0.9819 - val_loss: 0.3167 - val_categorical_accuracy: 0.8908 - val_precision_2: 0.8908 - val_recall_2: 0.8908\n",
      "Epoch 5/10\n",
      "1200/1200 [==============================] - 83s 69ms/step - loss: 0.0456 - categorical_accuracy: 0.9834 - precision_2: 0.9834 - recall_2: 0.9834 - val_loss: 0.4143 - val_categorical_accuracy: 0.8935 - val_precision_2: 0.8935 - val_recall_2: 0.8935\n",
      "Epoch 6/10\n",
      "1200/1200 [==============================] - 84s 70ms/step - loss: 0.0439 - categorical_accuracy: 0.9852 - precision_2: 0.9852 - recall_2: 0.9852 - val_loss: 0.4576 - val_categorical_accuracy: 0.8886 - val_precision_2: 0.8886 - val_recall_2: 0.8886\n",
      "Epoch 7/10\n",
      "1200/1200 [==============================] - 83s 69ms/step - loss: 0.0360 - categorical_accuracy: 0.9869 - precision_2: 0.9869 - recall_2: 0.9869 - val_loss: 0.6293 - val_categorical_accuracy: 0.8646 - val_precision_2: 0.8646 - val_recall_2: 0.8646\n",
      "Epoch 8/10\n",
      "1200/1200 [==============================] - 83s 69ms/step - loss: 0.0344 - categorical_accuracy: 0.9870 - precision_2: 0.9870 - recall_2: 0.9870 - val_loss: 0.5164 - val_categorical_accuracy: 0.8793 - val_precision_2: 0.8793 - val_recall_2: 0.8793\n",
      "Epoch 9/10\n",
      "1200/1200 [==============================] - 83s 69ms/step - loss: 0.0311 - categorical_accuracy: 0.9888 - precision_2: 0.9888 - recall_2: 0.9888 - val_loss: 0.5354 - val_categorical_accuracy: 0.8806 - val_precision_2: 0.8806 - val_recall_2: 0.8806\n",
      "Epoch 10/10\n",
      "1200/1200 [==============================] - 82s 69ms/step - loss: 0.0325 - categorical_accuracy: 0.9881 - precision_2: 0.9881 - recall_2: 0.9881 - val_loss: 0.6807 - val_categorical_accuracy: 0.8745 - val_precision_2: 0.8745 - val_recall_2: 0.8745\n"
     ]
    }
   ],
   "source": [
    "resnet50_model_regularized.compile(optimizer=Adam(learning_rate=0.001),loss='categorical_crossentropy',metrics=[tf.keras.metrics.CategoricalAccuracy(),tf.keras.metrics.Precision(), tf.keras.metrics.Recall()])\n",
    "history = resnet50_model_regularized.fit(train_generator, validation_data=validation_generator, epochs=10)"
   ]
  },
  {
   "cell_type": "code",
   "execution_count": 22,
   "metadata": {
    "execution": {
     "iopub.execute_input": "2022-10-31T15:09:13.852588Z",
     "iopub.status.busy": "2022-10-31T15:09:13.851433Z",
     "iopub.status.idle": "2022-10-31T15:09:13.994102Z",
     "shell.execute_reply": "2022-10-31T15:09:13.994517Z",
     "shell.execute_reply.started": "2022-10-31T14:03:31.414990Z"
    },
    "papermill": {
     "duration": 8.350173,
     "end_time": "2022-10-31T15:09:13.994711",
     "exception": false,
     "start_time": "2022-10-31T15:09:05.644538",
     "status": "completed"
    },
    "tags": []
   },
   "outputs": [
    {
     "data": {
      "image/png": "[encoded data removed]",
      "text/plain": [
       "<Figure size 432x288 with 1 Axes>"
      ]
     },
     "metadata": {
      "needs_background": "light"
     },
     "output_type": "display_data"
    }
   ],
   "source": [
    "fig1 = plt.gcf()\n",
    "plt.plot(history.history['categorical_accuracy'])\n",
    "plt.plot(history.history['val_categorical_accuracy'])\n",
    "plt.axis(ymin=0.4,ymax=1)\n",
    "plt.grid()\n",
    "plt.title('Model Accuracy')\n",
    "plt.ylabel('Accuracy')\n",
    "plt.xlabel('Epochs')\n",
    "plt.legend(['train', 'validation'])\n",
    "plt.show()"
   ]
  },
  {
   "cell_type": "code",
   "execution_count": 23,
   "metadata": {
    "execution": {
     "iopub.execute_input": "2022-10-31T15:09:30.513352Z",
     "iopub.status.busy": "2022-10-31T15:09:30.503706Z",
     "iopub.status.idle": "2022-10-31T15:09:30.844383Z",
     "shell.execute_reply": "2022-10-31T15:09:30.843894Z"
    },
    "papermill": {
     "duration": 8.432143,
     "end_time": "2022-10-31T15:09:30.844528",
     "exception": false,
     "start_time": "2022-10-31T15:09:22.412385",
     "status": "completed"
    },
    "tags": []
   },
   "outputs": [],
   "source": [
    "resnet50_model_regularized.save(\"./resnet50_model_regularized.h5\")"
   ]
  },
  {
   "cell_type": "markdown",
   "metadata": {
    "papermill": {
     "duration": 8.594097,
     "end_time": "2022-10-31T15:09:47.650468",
     "exception": false,
     "start_time": "2022-10-31T15:09:39.056371",
     "status": "completed"
    },
    "tags": []
   },
   "source": [
    "<a href=\"./resnet50_model_regularized.h5\"> Download ResNet50 Regularized File </a>"
   ]
  },
  {
   "cell_type": "code",
   "execution_count": 40,
   "metadata": {
    "execution": {
     "iopub.execute_input": "2022-11-01T16:47:32.804849Z",
     "iopub.status.busy": "2022-11-01T16:47:32.804474Z",
     "iopub.status.idle": "2022-11-01T16:47:34.527566Z",
     "shell.execute_reply": "2022-11-01T16:47:34.526801Z",
     "shell.execute_reply.started": "2022-11-01T16:47:32.804815Z"
    }
   },
   "outputs": [],
   "source": [
    "resnet50_fine_tune1 = Sequential()\n",
    "\n",
    "pretrained_model= tf.keras.applications.ResNet50(include_top=False,\n",
    "                   input_shape=(32,32,3),\n",
    "                   pooling='avg',classes=2,\n",
    "                   weights= 'imagenet')\n",
    "for layer in pretrained_model.layers:\n",
    "        layer.trainable=True\n",
    "\n",
    "resnet50_fine_tune.add(pretrained_model)"
   ]
  },
  {
   "cell_type": "code",
   "execution_count": 41,
   "metadata": {
    "execution": {
     "iopub.execute_input": "2022-11-01T16:47:37.337961Z",
     "iopub.status.busy": "2022-11-01T16:47:37.337578Z",
     "iopub.status.idle": "2022-11-01T16:47:37.365858Z",
     "shell.execute_reply": "2022-11-01T16:47:37.365064Z",
     "shell.execute_reply.started": "2022-11-01T16:47:37.337928Z"
    }
   },
   "outputs": [],
   "source": [
    "resnet50_fine_tune1.add(Flatten())\n",
    "resnet50_fine_tune1.add(Dense(128, activation='relu'))\n",
    "resnet50_fine_tune1.add(Dropout(0.5))\n",
    "resnet50_fine_tune1.add(Dense(2, activation='softmax'))"
   ]
  },
  {
   "cell_type": "code",
   "execution_count": 42,
   "metadata": {
    "execution": {
     "iopub.execute_input": "2022-11-01T16:47:40.241046Z",
     "iopub.status.busy": "2022-11-01T16:47:40.240687Z",
     "iopub.status.idle": "2022-11-01T17:02:12.572908Z",
     "shell.execute_reply": "2022-11-01T17:02:12.571894Z",
     "shell.execute_reply.started": "2022-11-01T16:47:40.241014Z"
    }
   },
   "outputs": [
    {
     "name": "stdout",
     "output_type": "stream",
     "text": [
      "Epoch 1/10\n",
      "1200/1200 [==============================] - 95s 74ms/step - loss: 0.2215 - categorical_accuracy: 0.9311 - precision_4: 0.9311 - recall_4: 0.9311 - val_loss: 0.5102 - val_categorical_accuracy: 0.8756 - val_precision_4: 0.8756 - val_recall_4: 0.8756\n",
      "Epoch 2/10\n",
      "1200/1200 [==============================] - 87s 72ms/step - loss: 0.0243 - categorical_accuracy: 0.9932 - precision_4: 0.9932 - recall_4: 0.9932 - val_loss: 0.1330 - val_categorical_accuracy: 0.9654 - val_precision_4: 0.9654 - val_recall_4: 0.9654\n",
      "Epoch 3/10\n",
      "1200/1200 [==============================] - 86s 71ms/step - loss: 0.0727 - categorical_accuracy: 0.9774 - precision_4: 0.9774 - recall_4: 0.9774 - val_loss: 0.2217 - val_categorical_accuracy: 0.9277 - val_precision_4: 0.9277 - val_recall_4: 0.9277\n",
      "Epoch 4/10\n",
      "1200/1200 [==============================] - 86s 72ms/step - loss: 0.0592 - categorical_accuracy: 0.9814 - precision_4: 0.9814 - recall_4: 0.9814 - val_loss: 0.3647 - val_categorical_accuracy: 0.8930 - val_precision_4: 0.8930 - val_recall_4: 0.8930\n",
      "Epoch 5/10\n",
      "1200/1200 [==============================] - 86s 71ms/step - loss: 0.0381 - categorical_accuracy: 0.9886 - precision_4: 0.9886 - recall_4: 0.9886 - val_loss: 0.1688 - val_categorical_accuracy: 0.9480 - val_precision_4: 0.9480 - val_recall_4: 0.9480\n",
      "Epoch 6/10\n",
      "1200/1200 [==============================] - 86s 71ms/step - loss: 0.0289 - categorical_accuracy: 0.9920 - precision_4: 0.9920 - recall_4: 0.9920 - val_loss: 0.2743 - val_categorical_accuracy: 0.9021 - val_precision_4: 0.9021 - val_recall_4: 0.9021\n",
      "Epoch 7/10\n",
      "1200/1200 [==============================] - 85s 71ms/step - loss: 0.1297 - categorical_accuracy: 0.9605 - precision_4: 0.9605 - recall_4: 0.9605 - val_loss: 0.2640 - val_categorical_accuracy: 0.9134 - val_precision_4: 0.9134 - val_recall_4: 0.9134\n",
      "Epoch 8/10\n",
      "1200/1200 [==============================] - 85s 71ms/step - loss: 0.0423 - categorical_accuracy: 0.9882 - precision_4: 0.9882 - recall_4: 0.9882 - val_loss: 0.2241 - val_categorical_accuracy: 0.9117 - val_precision_4: 0.9117 - val_recall_4: 0.9117\n",
      "Epoch 9/10\n",
      "1200/1200 [==============================] - 87s 72ms/step - loss: 0.0268 - categorical_accuracy: 0.9918 - precision_4: 0.9918 - recall_4: 0.9918 - val_loss: 0.3247 - val_categorical_accuracy: 0.8728 - val_precision_4: 0.8728 - val_recall_4: 0.8728\n",
      "Epoch 10/10\n",
      "1200/1200 [==============================] - 89s 74ms/step - loss: 0.0217 - categorical_accuracy: 0.9926 - precision_4: 0.9926 - recall_4: 0.9926 - val_loss: 0.3339 - val_categorical_accuracy: 0.9062 - val_precision_4: 0.9062 - val_recall_4: 0.9062\n"
     ]
    }
   ],
   "source": [
    "resnet50_fine_tune1.compile(optimizer=Adam(learning_rate=0.001),loss='categorical_crossentropy',metrics=[tf.keras.metrics.CategoricalAccuracy(),tf.keras.metrics.Precision(), tf.keras.metrics.Recall()])\n",
    "history = resnet50_fine_tune1.fit(train_generator, validation_data=validation_generator, epochs=10)"
   ]
  },
  {
   "cell_type": "code",
   "execution_count": 43,
   "metadata": {
    "execution": {
     "iopub.execute_input": "2022-11-01T17:02:59.137436Z",
     "iopub.status.busy": "2022-11-01T17:02:59.137099Z",
     "iopub.status.idle": "2022-11-01T17:02:59.303265Z",
     "shell.execute_reply": "2022-11-01T17:02:59.302376Z",
     "shell.execute_reply.started": "2022-11-01T17:02:59.137406Z"
    }
   },
   "outputs": [
    {
     "data": {
      "image/png": "[encoded data removed]",
      "text/plain": [
       "<Figure size 432x288 with 1 Axes>"
      ]
     },
     "metadata": {
      "needs_background": "light"
     },
     "output_type": "display_data"
    }
   ],
   "source": [
    "fig1 = plt.gcf()\n",
    "plt.plot(history.history['categorical_accuracy'])\n",
    "plt.plot(history.history['val_categorical_accuracy'])\n",
    "plt.axis(ymin=0.4,ymax=1)\n",
    "plt.grid()\n",
    "plt.title('Model Accuracy')\n",
    "plt.ylabel('Accuracy')\n",
    "plt.xlabel('Epochs')\n",
    "plt.legend(['train', 'validation'])\n",
    "plt.show()"
   ]
  },
  {
   "cell_type": "code",
   "execution_count": 39,
   "metadata": {
    "execution": {
     "iopub.execute_input": "2022-11-01T16:45:28.592241Z",
     "iopub.status.busy": "2022-11-01T16:45:28.591865Z",
     "iopub.status.idle": "2022-11-01T16:45:29.501533Z",
     "shell.execute_reply": "2022-11-01T16:45:29.500594Z",
     "shell.execute_reply.started": "2022-11-01T16:45:28.592211Z"
    }
   },
   "outputs": [],
   "source": [
    "resnet50_fine_tune.save(\"./resnet50_fine_tune.h5\")"
   ]
  },
  {
   "cell_type": "markdown",
   "metadata": {
    "papermill": {
     "duration": 8.237156,
     "end_time": "2022-10-31T15:10:03.914608",
     "exception": false,
     "start_time": "2022-10-31T15:09:55.677452",
     "status": "completed"
    },
    "tags": []
   },
   "source": [
    "<a href=\"./resnet50.h5\"> Download ResNet50 File </a>"
   ]
  },
  {
   "cell_type": "markdown",
   "metadata": {
    "papermill": {
     "duration": 11.532022,
     "end_time": "2022-10-31T15:26:35.913998",
     "exception": false,
     "start_time": "2022-10-31T15:26:24.381976",
     "status": "completed"
    },
    "tags": []
   },
   "source": [
    "<a href=\"./resnet50_fine_tune.h5\"> Download fine_tune ResNet50 File </a>"
   ]
  }
 ],
 "metadata": {
  "kernelspec": {
   "display_name": "Python 3 (ipykernel)",
   "language": "python",
   "name": "python3"
  },
  "language_info": {
   "codemirror_mode": {
    "name": "ipython",
    "version": 3
   },
   "file_extension": ".py",
   "mimetype": "text/x-python",
   "name": "python",
   "nbconvert_exporter": "python",
   "pygments_lexer": "ipython3",
   "version": "3.8.10"
  },
  "papermill": {
   "default_parameters": {},
   "duration": 3934.750294,
   "end_time": "2022-10-31T15:26:50.628009",
   "environment_variables": {},
   "exception": null,
   "input_path": "__notebook__.ipynb",
   "output_path": "__notebook__.ipynb",
   "parameters": {},
   "start_time": "2022-10-31T14:21:15.877715",
   "version": "2.2.2"
  }
 },
 "nbformat": 4,
 "nbformat_minor": 4
}
